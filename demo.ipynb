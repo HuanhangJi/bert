{
 "cells": [
  {
   "cell_type": "code",
   "execution_count": 38,
   "metadata": {},
   "outputs": [
    {
     "name": "stdout",
     "output_type": "stream",
     "text": [
      "True\n",
      "2.2.1\n"
     ]
    }
   ],
   "source": [
    "import torch\n",
    "from sentence_transformers import SentenceTransformer, util\n",
    "import pandas as pd\n",
    "import math\n",
    "import numpy as np\n",
    "print(torch.cuda.is_available())\n",
    "print(torch.__version__)"
   ]
  },
  {
   "cell_type": "code",
   "execution_count": 3,
   "metadata": {},
   "outputs": [],
   "source": [
    "# 导入模型\n",
    "# windows\n",
    "model = SentenceTransformer(\"D:\\\\code\\\\bert_model\\\\pre_trained\\\\distiluse-base-multilingual-cased-v1\")\n",
    "#mac\n",
    "#model = SentenceTransformer(\"distiluse-base-multilingual-cased-v1\")\n",
    "\n",
    "\n",
    "#multilingual model\n",
    "# distiluse-base-multilingual-cased-v1: Multilingual knowledge distilled version of multilingual Universal Sentence Encoder. Supports 15 languages: Arabic, Chinese, Dutch, English, French, German, Italian, Korean, Polish, Portuguese, Russian, Spanish, Turkish.\n",
    "\n",
    "# distiluse-base-multilingual-cased-v2: Multilingual knowledge distilled version of multilingual Universal Sentence Encoder. This version supports 50+ languages, but performs a bit weaker than the v1 model.\n",
    "\n",
    "# paraphrase-multilingual-MiniLM-L12-v2 - Multilingual version of paraphrase-MiniLM-L12-v2, trained on parallel data for 50+ languages.\n",
    "\n",
    "# paraphrase-multilingual-mpnet-base-v2 - Multilingual version of paraphrase-mpnet-base-v2, trained on parallel data for 50+ languages."
   ]
  },
  {
   "cell_type": "code",
   "execution_count": 4,
   "metadata": {},
   "outputs": [],
   "source": [
    "#函数定义\n",
    "def split_dataset(time_start,time_end,df):\n",
    "    return df.loc[time_start:time_end]\n",
    "\n",
    "def get_split_dfs(start,end,diff,exp_data):\n",
    "    dfs = []\n",
    "    ends = start + diff -1\n",
    "    year = start\n",
    "    n = int((end - start)/diff)\n",
    "    for i in range(n):\n",
    "        time_start = f'{start}-01-01'\n",
    "        time_end = f'{ends}-12-31'\n",
    "        # print(time_start)\n",
    "        dfs.append(split_dataset(time_start,time_end,exp_data))\n",
    "        start += diff\n",
    "        ends += diff\n",
    "    for i in dfs:\n",
    "        print(f\"{year}:{len(i)}\")\n",
    "        year += diff\n",
    "    return dfs"
   ]
  },
  {
   "cell_type": "code",
   "execution_count": 8,
   "metadata": {},
   "outputs": [
    {
     "name": "stdout",
     "output_type": "stream",
     "text": [
      "2010:32761\n",
      "2012:33471\n",
      "2014:34880\n",
      "2016:34737\n",
      "2018:31522\n"
     ]
    }
   ],
   "source": [
    "#数据处理\n",
    "#国家年度专利数量统计\n",
    "all_data = pd.read_excel('all_data.xlsx')\n",
    "all_data.set_index(pd.to_datetime(all_data[\"申请日\"]),inplace=True)\n",
    "all_data.sort_index(inplace=True)\n",
    "all_dfs = get_split_dfs(2010,2020,2,all_data)"
   ]
  },
  {
   "cell_type": "code",
   "execution_count": 61,
   "metadata": {},
   "outputs": [],
   "source": [
    "#处理实验国别\n",
    "#['公开（公告）号','公开（公告）日','申请号','申请日','公开国别','标准化申请人','申请人国家/地区','标题 (中文)','标题 (英文)','摘要 (中文)','摘要 (英文)','标题（小语种原文）','摘要（小语种原文）']\n",
    "exp_code = {'USA': 0, 'GBR': 1, 'MYS': 2, 'ITA': 3, 'AUS': 4, 'FRA': 5, 'PHL': 6, 'CAN': 7, 'BRB': 8, 'JPN': 9, 'FIN': 10, 'CHN': 11, 'DEU': 12, 'AUT': 13, 'TWN': 14, 'IND': 15, 'SGP': 16, 'NLD': 17, 'KOR': 18, 'SWE': 19, 'CHE': 20, 'BEL': 21, 'ISR': 22, 'VGB': 23, 'CYM': 24, 'NOR': 25, 'IRL': 26, 'ESP': 27, 'RUS': 28, 'NZL': 29, 'DNK': 30, 'HKG': 31}\n",
    "df = pd.read_excel('CH-EN_countries.xlsx')\n",
    "exp_countries = exp_code.keys()\n",
    "ch_to_en = {}\n",
    "en_to_ch = {}\n",
    "for index,row in df.iterrows():\n",
    "    en_to_ch[row['三位字母']] = row['中文名']\n",
    "    ch_to_en[row['中文名']] = row['三位字母']\n",
    "\n",
    "empty = []\n",
    "for i in range(len(exp_countries)):\n",
    "    empty.append([])\n",
    "corpus_list = []\n",
    "\n",
    "\n",
    "for i in range(len(all_dfs)):\n",
    "    corpus = dict(zip(exp_countries,empty))\n",
    "    for index,row in all_dfs[i].iterrows():\n",
    "        for i in row['申请人国家/地区'].split(', '):\n",
    "            code = ch_to_en[i]\n",
    "            if code in exp_countries:\n",
    "                if not pd.isna(row['摘要（小语种原文）']):\n",
    "                    cur_corpus = row['摘要（小语种原文）'] \n",
    "                elif code in ['CHN', 'TWN', 'HKG']:\n",
    "                    cur_corpus = row['摘要 (中文)']\n",
    "                else:\n",
    "                    cur_corpus = row['摘要 (英文)']\n",
    "                corpus[code].append(cur_corpus)\n",
    "        corpus_list.append(corpus)\n",
    "\n",
    "            "
   ]
  },
  {
   "cell_type": "code",
   "execution_count": null,
   "metadata": {},
   "outputs": [],
   "source": [
    "sentences = [\n",
    "    \"纪欢航在门外\",\n",
    "    \"Jihuanhang is at outside of the door\",\n",
    "    \"不想玩啦！\",\n",
    "    \"纪欢航在花园\"\n",
    "]\n",
    "sentence_embeddings = model.encode(sentences)\n",
    "matrix = util.cos_sim(sentence_embeddings,sentence_embeddings)\n",
    "\n",
    "print(matrix)"
   ]
  }
 ],
 "metadata": {
  "kernelspec": {
   "display_name": "base",
   "language": "python",
   "name": "python3"
  },
  "language_info": {
   "codemirror_mode": {
    "name": "ipython",
    "version": 3
   },
   "file_extension": ".py",
   "mimetype": "text/x-python",
   "name": "python",
   "nbconvert_exporter": "python",
   "pygments_lexer": "ipython3",
   "version": "3.11.8"
  }
 },
 "nbformat": 4,
 "nbformat_minor": 2
}
